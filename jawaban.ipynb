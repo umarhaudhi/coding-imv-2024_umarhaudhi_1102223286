{
 "cells": [
  {
   "cell_type": "markdown",
   "metadata": {},
   "source": [
    "Nomor 1"
   ]
  },
  {
   "cell_type": "code",
   "execution_count": 1,
   "metadata": {},
   "outputs": [
    {
     "name": "stdout",
     "output_type": "stream",
     "text": [
      "Angka 4 adalah bilangan genap\n"
     ]
    }
   ],
   "source": [
    "angka = int(input(\"masukkan angka =\"))\n",
    "\n",
    "if (angka % 2 == 0 ):\n",
    "  print(\"Angka\", angka, \"adalah bilangan genap\")\n",
    "else: \n",
    "  print(\"Angka\", angka, \"adalah bilangan ganjil\")\n"
   ]
  },
  {
   "cell_type": "markdown",
   "metadata": {},
   "source": [
    "Nomor 2"
   ]
  },
  {
   "cell_type": "code",
   "execution_count": 2,
   "metadata": {},
   "outputs": [
    {
     "name": "stdout",
     "output_type": "stream",
     "text": [
      "3 is valid\n",
      "4 is not valid\n"
     ]
    }
   ],
   "source": [
    "import math\n",
    "n=list(map(int,input(\"Enter the numbers separated by ',': \").split(\",\")))\n",
    "def isPerfectSquare(x):\n",
    "    s = int(math.sqrt(x))\n",
    "    return s*s == x\n",
    "def isFibonacci(b):\n",
    "    return isPerfectSquare(5*b*b + 4) or isPerfectSquare(5*b*b - 4)\n",
    "for i in (n):\n",
    "    if (isFibonacci(i) == True):\n",
    "        print(\"Angka\",i, \"merupakan angka fibonacci\")\n",
    "    else:\n",
    "        print(\"Angka\",i, \"bukan angka fibonacci\")"
   ]
  },
  {
   "cell_type": "markdown",
   "metadata": {},
   "source": [
    "Nomor 3"
   ]
  },
  {
   "cell_type": "code",
   "execution_count": 3,
   "metadata": {},
   "outputs": [
    {
     "name": "stdout",
     "output_type": "stream",
     "text": [
      "       * \n",
      "      * * \n",
      "     * * * \n",
      "    * * * * \n",
      "   * * * * * \n",
      "  * * * * * * \n",
      " * * * * * * * \n",
      "  * * * * * * \n",
      "   * * * * * \n",
      "    * * * * \n",
      "     * * * \n",
      "      * * \n",
      "       * \n"
     ]
    }
   ],
   "source": [
    "lebar_belah_ketupat = 7\n",
    "  \n",
    "for i in range(lebar_belah_ketupat):\n",
    "  for j in range(lebar_belah_ketupat-i):\n",
    "    print(' ',end='')\n",
    "      \n",
    "  for k in range(i+1):\n",
    "    print('* ',end='')\n",
    "  print()\n",
    " \n",
    "for i in range(1,lebar_belah_ketupat):\n",
    "  for j in range(i+1):\n",
    "    print(' ',end='')\n",
    "      \n",
    "  for k in range(lebar_belah_ketupat-i):\n",
    "    print('* ',end='')\n",
    "  print()"
   ]
  },
  {
   "cell_type": "markdown",
   "metadata": {},
   "source": [
    "Nomor 4"
   ]
  },
  {
   "cell_type": "code",
   "execution_count": 8,
   "metadata": {},
   "outputs": [
    {
     "name": "stdout",
     "output_type": "stream",
     "text": [
      "[98, 77, 66, 32]\n",
      "[88, 78, 67, 33]\n",
      "[78, 79, 68, 31]\n"
     ]
    }
   ],
   "source": [
    "matriks = [[98, 88, 78],\n",
    "           [77, 78, 79],\n",
    "           [66, 67, 68],\n",
    "           [32, 33, 31]]\n",
    "\n",
    "result = [[0,0,0,0],\n",
    "         [0,0,0,0],\n",
    "         [0,0,0,0]]\n",
    "\n",
    "# iterate through rows\n",
    "for i in range(len(matriks)):\n",
    "   # iterate through columns\n",
    "   for j in range(len(matriks[0])):\n",
    "       result[j][i] = matriks[i][j]\n",
    "\n",
    "for r in result:\n",
    "   print(r)"
   ]
  },
  {
   "cell_type": "markdown",
   "metadata": {},
   "source": [
    "Nomor 5"
   ]
  },
  {
   "cell_type": "code",
   "execution_count": null,
   "metadata": {},
   "outputs": [],
   "source": []
  }
 ],
 "metadata": {
  "kernelspec": {
   "display_name": "Python 3",
   "language": "python",
   "name": "python3"
  },
  "language_info": {
   "codemirror_mode": {
    "name": "ipython",
    "version": 3
   },
   "file_extension": ".py",
   "mimetype": "text/x-python",
   "name": "python",
   "nbconvert_exporter": "python",
   "pygments_lexer": "ipython3",
   "version": "3.12.0"
  }
 },
 "nbformat": 4,
 "nbformat_minor": 2
}
