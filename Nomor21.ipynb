angka = int(input("masukkan angka ="))

if (angka % 2 == 0 ):
  print("Angka", angka, "adalah bilangan genap")
else: 
  print("Angka", angka, "adalah bilangan ganjil")
